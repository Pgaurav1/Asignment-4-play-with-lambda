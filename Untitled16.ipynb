{
 "cells": [
  {
   "cell_type": "code",
   "execution_count": 9,
   "id": "570dcced",
   "metadata": {},
   "outputs": [
    {
     "name": "stdout",
     "output_type": "stream",
     "text": [
      "35\n",
      "10\n"
     ]
    }
   ],
   "source": [
    "#Ques 1:Write a Python program to a lambda function that adds 25 to a given number passed in as an arguement.\n",
    "#Sample input:10\n",
    "#Sample output:35\n",
    "#Ans:\n",
    "r = lambda a : a + 25\n",
    "print(r(10))\n",
    "r = lambda x, y : x + y\n",
    "print(r(5, 5))\n"
   ]
  },
  {
   "cell_type": "code",
   "execution_count": null,
   "id": "6a58872d",
   "metadata": {},
   "outputs": [],
   "source": []
  }
 ],
 "metadata": {
  "kernelspec": {
   "display_name": "Python 3 (ipykernel)",
   "language": "python",
   "name": "python3"
  },
  "language_info": {
   "codemirror_mode": {
    "name": "ipython",
    "version": 3
   },
   "file_extension": ".py",
   "mimetype": "text/x-python",
   "name": "python",
   "nbconvert_exporter": "python",
   "pygments_lexer": "ipython3",
   "version": "3.9.12"
  }
 },
 "nbformat": 4,
 "nbformat_minor": 5
}
